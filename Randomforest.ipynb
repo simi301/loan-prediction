{
 "cells": [
  {
   "cell_type": "code",
   "execution_count": 2,
   "metadata": {},
   "outputs": [],
   "source": [
    "import pandas as pd\n",
    "from sklearn.model_selection import train_test_split\n",
    "import os\n",
    "\n",
    "\n",
    "\n",
    "data = pd.read_csv('loan prediction.csv')\n",
    "\n",
    "#Preprocessing\n",
    "data.isnull().sum()\n",
    "\n",
    "data['Gender'].fillna(data['Gender'].mode()[0],inplace=True)\n",
    "data['Married'].fillna(data['Married'].mode()[0],inplace=True)\n",
    "data['Dependents'].fillna(data['Dependents'].mode()[0],inplace=True)\n",
    "data['Self_Employed'].fillna(data['Self_Employed'].mode()[0],inplace=True)\n",
    "data['Loan_Amount_Term'].fillna(data['Loan_Amount_Term'].mode()[0],inplace=True)\n",
    "data['Credit_History'].fillna(data['Credit_History'].mode()[0],inplace=True)\n",
    "\n",
    "data['LoanAmount'].fillna(data['LoanAmount'].median(),inplace=True)\n",
    "\n",
    "#Dummy variable\n",
    "data1=data.iloc[:,1:-1]#thus we dont need loan id\n",
    "data1=pd.get_dummies(data1,columns=['Gender','Married','Dependents','Self_Employed','Education','Credit_History','Property_Area'],drop_first=True)\n",
    "\n",
    "X= data1.values\n",
    "y= data.iloc[:,-1].values\n",
    "\n",
    "X_train, X_test, y_train, y_test = train_test_split(X,y,test_size=0.25,random_state=10)\n"
   ]
  },
  {
   "cell_type": "code",
   "execution_count": 3,
   "metadata": {},
   "outputs": [],
   "source": [
    "from sklearn.ensemble import RandomForestClassifier\n",
    "classifier = RandomForestClassifier(n_estimators = 100, max_depth = 3, min_samples_leaf = 5, random_state = 10)"
   ]
  },
  {
   "cell_type": "code",
   "execution_count": 4,
   "metadata": {},
   "outputs": [
    {
     "data": {
      "text/plain": [
       "RandomForestClassifier(max_depth=3, min_samples_leaf=5, random_state=10)"
      ]
     },
     "execution_count": 4,
     "metadata": {},
     "output_type": "execute_result"
    }
   ],
   "source": [
    "classifier.fit(X_train, y_train)"
   ]
  },
  {
   "cell_type": "code",
   "execution_count": 5,
   "metadata": {},
   "outputs": [],
   "source": [
    "y_pred = classifier.predict(X_test)"
   ]
  },
  {
   "cell_type": "code",
   "execution_count": 6,
   "metadata": {},
   "outputs": [
    {
     "name": "stdout",
     "output_type": "stream",
     "text": [
      "Training Accuracy : 0.811\n",
      "Testing Accuracy : 0.812\n"
     ]
    }
   ],
   "source": [
    "print('Training Accuracy : {:.3f}'.format(classifier.score(X_train,y_train)))\n",
    "print('Testing Accuracy : {:.3f}'.format(classifier.score(X_test,y_test)))"
   ]
  },
  {
   "cell_type": "code",
   "execution_count": 7,
   "metadata": {},
   "outputs": [],
   "source": [
    "from sklearn.metrics import confusion_matrix"
   ]
  },
  {
   "cell_type": "code",
   "execution_count": 8,
   "metadata": {},
   "outputs": [
    {
     "data": {
      "text/plain": [
       "array([[112,   1],\n",
       "       [ 28,  13]], dtype=int64)"
      ]
     },
     "execution_count": 8,
     "metadata": {},
     "output_type": "execute_result"
    }
   ],
   "source": [
    "cm = confusion_matrix(y_test,y_pred, labels = ('Y','N'))\n",
    "cm"
   ]
  },
  {
   "cell_type": "code",
   "execution_count": 9,
   "metadata": {},
   "outputs": [
    {
     "name": "stdout",
     "output_type": "stream",
     "text": [
      "0.810\n"
     ]
    }
   ],
   "source": [
    "#Cross validation\n",
    "from sklearn.model_selection import cross_val_score\n",
    "accuracies = cross_val_score(classifier,X,y,cv =10)\n",
    "print('{:.3f}'.format(accuracies.mean()))"
   ]
  },
  {
   "cell_type": "code",
   "execution_count": 10,
   "metadata": {},
   "outputs": [],
   "source": [
    "#grid search\n",
    "from sklearn.model_selection import GridSearchCV\n",
    "param_grid = {\n",
    "    'n_estimators': [50,100,200],\n",
    "    'max_depth': [3,5,7],\n",
    "    'min_samples_leaf': [2,5,10]}\n"
   ]
  },
  {
   "cell_type": "code",
   "execution_count": 13,
   "metadata": {},
   "outputs": [
    {
     "name": "stdout",
     "output_type": "stream",
     "text": [
      "0.81087\n",
      "Testing Accuracy: 0.812\n",
      "{'max_depth': 5, 'min_samples_leaf': 2, 'n_estimators': 50}\n"
     ]
    }
   ],
   "source": [
    "CV_rfc = GridSearchCV(estimator = classifier,param_grid = param_grid,cv = 5)\n",
    "CV_rfc.fit(X_train,y_train)\n",
    "print(CV_rfc.best_score_.round(5))\n",
    "y_pred = CV_rfc.predict(X_test)\n",
    "print('Testing Accuracy: {:.3f}'.format(CV_rfc.score(X_test, y_test)))\n",
    "print(CV_rfc.best_params_)"
   ]
  },
  {
   "cell_type": "code",
   "execution_count": 14,
   "metadata": {},
   "outputs": [],
   "source": [
    "classifier1 = RandomForestClassifier(n_estimators = 50, max_depth = 5, min_samples_leaf = 2, random_state = 10)"
   ]
  },
  {
   "cell_type": "code",
   "execution_count": 15,
   "metadata": {},
   "outputs": [
    {
     "name": "stdout",
     "output_type": "stream",
     "text": [
      "Training Accuracy : 0.820\n",
      "Testing Accuracy : 0.812\n"
     ]
    },
    {
     "data": {
      "text/plain": [
       "array([[112,   1],\n",
       "       [ 28,  13]], dtype=int64)"
      ]
     },
     "execution_count": 15,
     "metadata": {},
     "output_type": "execute_result"
    }
   ],
   "source": [
    "classifier1.fit(X_train, y_train)\n",
    "\n",
    "y_pred = classifier1.predict(X_test)\n",
    "\n",
    "print('Training Accuracy : {:.3f}'.format(classifier1.score(X_train,y_train)))\n",
    "print('Testing Accuracy : {:.3f}'.format(classifier1.score(X_test,y_test)))\n",
    "\n",
    "from sklearn.metrics import confusion_matrix\n",
    "\n",
    "cm = confusion_matrix(y_test,y_pred, labels = ('Y','N'))\n",
    "cm"
   ]
  },
  {
   "cell_type": "code",
   "execution_count": 19,
   "metadata": {},
   "outputs": [
    {
     "name": "stdout",
     "output_type": "stream",
     "text": [
      "[(0.5, 'Credit_History_1.0'), (0.11, 'ApplicantIncome'), (0.1, 'LoanAmount'), (0.08, 'Property_Area_Semiurban'), (0.06, 'CoapplicantIncome'), (0.04, 'Loan_Amount_Term'), (0.03, 'Education_Not Graduate'), (0.02, 'Property_Area_Urban'), (0.02, 'Married_Yes'), (0.01, 'Self_Employed_Yes'), (0.01, 'Gender_Male'), (0.01, 'Dependents_2'), (0.01, 'Dependents_1'), (0.0, 'Dependents_3+')]\n"
     ]
    },
    {
     "data": {
      "image/png": "[encoded data removed]",
      "text/plain": [
       "<Figure size 432x288 with 1 Axes>"
      ]
     },
     "metadata": {
      "needs_background": "light"
     },
     "output_type": "display_data"
    }
   ],
   "source": [
    "import matplotlib.pyplot as plt\n",
    "import numpy as np\n",
    "#Feature importance\n",
    "n_features = data1.shape[1]\n",
    "plt.barh(range(n_features),classifier.feature_importances_,align = 'center')\n",
    "plt.yticks(np.arange(n_features),data1.columns)\n",
    "plt.xlabel('Feature Importance')\n",
    "plt.ylabel('Feature')\n",
    "plt.tight_layout()\n",
    "\n",
    "imp = list(zip(np.round(classifier.feature_importances_,2),data1.columns))\n",
    "imp.sort(reverse  =True)\n",
    "print(imp)"
   ]
  },
  {
   "cell_type": "code",
   "execution_count": null,
   "metadata": {},
   "outputs": [],
   "source": []
  }
 ],
 "metadata": {
  "kernelspec": {
   "display_name": "Python 3",
   "language": "python",
   "name": "python3"
  },
  "language_info": {
   "codemirror_mode": {
    "name": "ipython",
    "version": 3
   },
   "file_extension": ".py",
   "mimetype": "text/x-python",
   "name": "python",
   "nbconvert_exporter": "python",
   "pygments_lexer": "ipython3",
   "version": "3.7.6"
  }
 },
 "nbformat": 4,
 "nbformat_minor": 4
}
